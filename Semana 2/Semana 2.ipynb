{
 "cells": [
  {
   "cell_type": "code",
   "execution_count": 35,
   "metadata": {},
   "outputs": [],
   "source": [
    "import pandas as pd\n",
    "import numpy as np\n",
    "import igraph as ig"
   ]
  },
  {
   "cell_type": "markdown",
   "metadata": {},
   "source": [
    "# Semana 2\n",
    "\n",
    "### 1.1) Dados de mobilidade populacional:\n",
    "\n",
    "Os dados de mobilidade rastreiam o movimento das pessoas no espaço, o que ajuda a explorar a tendência espacial da **propagação do vírus estudado (no nosso caso o COVID-19)**. A Baidu oferece serviço baseado em localização (LBS), baseado no sistema de posicionamento global (GPS), endereços IP, localização de torres de sinalização, Wi-Fi, para busca e mapeamento online, e uma grande variedade de aplicativos e software em dispositivos móveis (Lai et al, 2020).Esses dados foram usados para visualizar a mobilidade populacional em torno do **Ano Novo Chinês** (Merlière, 2020). Os dados de mobilidade são categorizados como **entradas** e **saídas** por província e cidade na China. Pegamos as matrizes de mobilidade diária para província e cidades com dados de entrada e saída no [Baidu Mobility Data - Harvard Dataverse](https://dataverse.harvard.edu/dataset.xhtml?persistentId=doi:10.7910/DVN/FAEZIO)."
   ]
  },
  {
   "cell_type": "code",
   "execution_count": 36,
   "metadata": {},
   "outputs": [
    {
     "name": "stdout",
     "output_type": "stream",
     "text": [
      "The source is from Baidu https://qianxi.baidu.com/. \n",
      "1. On the Baidu Qianxi website, it just lists the top 100 cities and values indicate the percentages.\n",
      "2. For baidu_in_.csv, the columns are the in-cities; for baidu_out.csv, the columns are the out-cities.\n",
      "3. January 1 ~ March 8, the city names are in Chinese; after March 9, the city naems are in English\n",
      "4. Please read 'Index_City_EN_CH.csv' file to convert the Chinese and English names\n",
      "5. After April 5, city index added to the names. The order of index and column names keep the same in all files.  \n",
      "\n",
      "\n",
      "***If you use the data, please cite the data source and our dataset https://doi.org/10.7910/DVN/FAEZIO.\n",
      "\n"
     ]
    }
   ],
   "source": [
    "# README do Baidu Mobility Data \n",
    "with open(r'C:\\Users\\55119\\Documents\\Estudos\\IC\\Semana 2\\README.txt', 'r') as file:\n",
    "    print(file.read())"
   ]
  },
  {
   "cell_type": "markdown",
   "metadata": {},
   "source": [
    "### 1.2) Teoria dos Grafos:\n",
    "#### 1.2.1) As pontes de Königsberg:\n",
    "Poucos campos de pesquisa podem traçar seu nascimento até um único momento e lugar na história. A teoria dos grafos, o andaime matemático por trás da **ciência das redes**, pode. Suas raízes remontam a 1735 em Königsberg, a capital da Prússia Oriental, uma próspera cidade mercantil de seu tempo. O comércio apoiado por sua movimentada frota de navios permitiu que as autoridades da cidade construíssem sete pontes sobre o rio Pregel, que cercava a cidade. Cinco delas ligavam ao continente a elegante ilha Kneiphof, presa entre os dois ramos do Pregel. As duas restantes cruzaram os dois braços do rio. Esse arranjo peculiar deu origem a um quebra-cabeça contemporâneo: **pode-se atravessar todas as sete pontes e nunca cruzar a mesma duas vezes?** Apesar de muitas tentativas, ninguém conseguiu encontrar tal caminho. O problema permaneceu sem solução até 1735, quando **Leonard Euler**, um matemático nascido na Suíça, ofereceu uma prova matemática rigorosa de que tal caminho não existe.\n",
    "\n",
    "Euler representou cada uma das quatro áreas de terra separadas pelo rio com as letras A, B, C e D (Imagem 1.1). Em seguida, ele conectou com linhas cada pedaço de terra que tinha uma ponte entre eles. Ele construiu assim um **grafo**, cujos **nós** eram pedaços de terra e os **links** eram as pontes. Então Euler fez uma observação simples: **se existe um caminho cruzando todas as pontes, mas nunca a mesma ponte duas vezes, então nós com número ímpar de links devem ser o ponto inicial ou final desse caminho**. De fato, **se você chegar a um nó com um número ímpar de links, poderá não ter nenhum link não utilizado para deixá-lo**.\n",
    "\n",
    "<center>\n",
    " \n",
    "<img src=\"https://github.com/gabrielxcosta/Simulation-of-epidemiological-models-in-temporal-mobility-networks/blob/main/Semana%202/Konigsberg.jpg?raw=true\"/>\n",
    "\n",
    "<em>a) Um mapa contemporâneo de Königsberg (agora Kaliningrado, Rússia) durante o tempo de Euler.</em>\n",
    "\n",
    "<em>b) Uma ilustração esquemática dos quatro pedaços de terra de Königsberg e as sete pontes sobre eles.</em>\n",
    "    \n",
    "<em>c) Euler construiu um grafo que tem quatro nós (A, B, C, D), cada um correspondendo a um pedaço de terra, e sete links, cada um correspondendo a uma ponte. Ele então mostrou que não há caminho contínuo que cruzaria as sete pontes sem nunca cruzar a mesma ponte duas vezes. O povo de Königsberg desistiu de sua busca infrutífera e em 1875 construiu uma nova ponte entre B e C, aumentando o número de links desses dois nós para quatro. Agora, apenas um nó ficou com um número ímpar de links. Consequentemente, devemos ser capazes de encontrar o caminho desejado.</em> \n",
    "\n",
    "</center>\n",
    "\n",
    "Um caminho que passa por todas as pontes pode ter apenas um ponto inicial e um ponto final. Assim, tal caminho não pode existir em um grafo que tenha mais de dois nós com um número ímpar de links. O grafo de Königsberg tinha quatro nós com um número ímpar de links, A, B, C e D, então nenhum caminho poderia satisfazer o problema.\n",
    "\n",
    "A prova de Euler foi a primeira vez que alguém resolveu um problema matemático usando um grafo. Para nós, a prova tem duas mensagens importantes: A primeira é que alguns problemas se tornam mais simples e tratáveis ​​se forem representados como um grafo. A segunda é que a existência do caminho não depende de nossa engenhosidade para encontrá-lo. Pelo contrário, é uma propriedade do grafo. De fato, dada a estrutura do grafo de Königsberg, por mais inteligentes que sejamos, nunca encontraremos o caminho desejado. Em outras palavras, as redes possuem propriedades codificadas em sua estrutura que limitam ou melhoram seu comportamento.\n",
    "\n",
    "Para entender as muitas maneiras pelas quais as redes podem afetar as propriedades de um sistema, precisamos nos familiarizar com a teoria dos grafos, um ramo da matemática que surgiu da prova de Euler."
   ]
  },
  {
   "cell_type": "code",
   "execution_count": 37,
   "metadata": {},
   "outputs": [
    {
     "name": "stdout",
     "output_type": "stream",
     "text": [
      "IGRAPH UN-- 4 7 --\n",
      "+ attr: label (v), name (v)\n",
      "+ edges (vertex names):\n",
      "B -- A, A, D         C -- A, A, D\n",
      "A -- B, B, C, C, D   D -- B, A, C\n"
     ]
    }
   ],
   "source": [
    "# Modelando o problema das pontes com a biblioteca IGraph:\n",
    "konigsbergBridges = ig.Graph(\n",
    "    n=4, # Número total de vértices ou tamanho do nosso grafo\n",
    "    edges=[(0, 1), (1, 0), (1, 2), (2, 1), (0, 3), (1, 3), (2, 3)] # Arestas do nosso grafo\n",
    "    )\n",
    "\n",
    "konigsbergBridges.vs['name'] = ['B', 'A', 'C', 'D']\n",
    "konigsbergBridges.vs['label'] = konigsbergBridges.vs['name']\n",
    "print(konigsbergBridges)"
   ]
  },
  {
   "cell_type": "code",
   "execution_count": 38,
   "metadata": {},
   "outputs": [
    {
     "data": {
      "image/svg+xml": "<?xml version=\"1.0\" encoding=\"UTF-8\"?>\n<svg xmlns=\"http://www.w3.org/2000/svg\" xmlns:xlink=\"http://www.w3.org/1999/xlink\" width=\"600pt\" height=\"600pt\" viewBox=\"0 0 600 600\" version=\"1.1\">\n<defs>\n<g>\n<symbol overflow=\"visible\" id=\"glyph0-0\">\n<path style=\"stroke:none;\" d=\"M 1.75 0 L 1.75 -8.75 L 8.75 -8.75 L 8.75 0 Z M 1.96875 -0.21875 L 8.53125 -0.21875 L 8.53125 -8.53125 L 1.96875 -8.53125 Z M 1.96875 -0.21875 \"/>\n</symbol>\n<symbol overflow=\"visible\" id=\"glyph0-1\">\n<path style=\"stroke:none;\" d=\"M 1.023438 0 L 1.023438 -10.023438 L 4.785156 -10.023438 C 5.546875 -10.019531 6.160156 -9.917969 6.625 -9.71875 C 7.085938 -9.511719 7.449219 -9.199219 7.714844 -8.78125 C 7.976563 -8.355469 8.109375 -7.914063 8.109375 -7.457031 C 8.109375 -7.027344 7.992188 -6.625 7.757813 -6.246094 C 7.523438 -5.867188 7.171875 -5.5625 6.707031 -5.332031 C 7.3125 -5.152344 7.777344 -4.847656 8.105469 -4.421875 C 8.425781 -3.992188 8.589844 -3.488281 8.59375 -2.90625 C 8.589844 -2.4375 8.492188 -2 8.296875 -1.597656 C 8.097656 -1.191406 7.851563 -0.878906 7.5625 -0.664063 C 7.269531 -0.441406 6.902344 -0.277344 6.464844 -0.167969 C 6.019531 -0.0546875 5.480469 0 4.847656 0 Z M 2.351563 -5.8125 L 4.519531 -5.8125 C 5.101563 -5.8125 5.523438 -5.847656 5.78125 -5.925781 C 6.117188 -6.023438 6.371094 -6.191406 6.542969 -6.425781 C 6.710938 -6.65625 6.796875 -6.949219 6.800781 -7.300781 C 6.796875 -7.632813 6.71875 -7.925781 6.5625 -8.179688 C 6.402344 -8.429688 6.171875 -8.601563 5.878906 -8.699219 C 5.578125 -8.789063 5.070313 -8.835938 4.355469 -8.839844 L 2.351563 -8.839844 Z M 2.351563 -1.183594 L 4.847656 -1.183594 C 5.269531 -1.183594 5.570313 -1.199219 5.75 -1.230469 C 6.050781 -1.285156 6.304688 -1.375 6.511719 -1.503906 C 6.714844 -1.628906 6.886719 -1.8125 7.019531 -2.058594 C 7.152344 -2.300781 7.21875 -2.585938 7.21875 -2.90625 C 7.21875 -3.277344 7.121094 -3.601563 6.929688 -3.878906 C 6.738281 -4.152344 6.472656 -4.34375 6.132813 -4.460938 C 5.792969 -4.570313 5.304688 -4.628906 4.667969 -4.628906 L 2.351563 -4.628906 Z M 2.351563 -1.183594 \"/>\n</symbol>\n<symbol overflow=\"visible\" id=\"glyph0-2\">\n<path style=\"stroke:none;\" d=\"M -0.0195313 0 L 3.828125 -10.023438 L 5.257813 -10.023438 L 9.359375 0 L 7.847656 0 L 6.679688 -3.035156 L 2.488281 -3.035156 L 1.386719 0 Z M 2.871094 -4.117188 L 6.269531 -4.117188 L 5.222656 -6.890625 C 4.898438 -7.734375 4.664063 -8.425781 4.511719 -8.96875 C 4.382813 -8.324219 4.203125 -7.6875 3.972656 -7.054688 Z M 2.871094 -4.117188 \"/>\n</symbol>\n<symbol overflow=\"visible\" id=\"glyph0-3\">\n<path style=\"stroke:none;\" d=\"M 8.230469 -3.515625 L 9.554688 -3.179688 C 9.277344 -2.089844 8.777344 -1.257813 8.054688 -0.6875 C 7.332031 -0.113281 6.449219 0.167969 5.40625 0.171875 C 4.324219 0.167969 3.445313 -0.046875 2.773438 -0.488281 C 2.09375 -0.925781 1.578125 -1.5625 1.226563 -2.398438 C 0.867188 -3.226563 0.691406 -4.125 0.695313 -5.085938 C 0.691406 -6.128906 0.890625 -7.039063 1.292969 -7.816406 C 1.691406 -8.59375 2.257813 -9.183594 2.996094 -9.585938 C 3.730469 -9.988281 4.542969 -10.1875 5.429688 -10.191406 C 6.425781 -10.1875 7.269531 -9.933594 7.957031 -9.425781 C 8.640625 -8.914063 9.117188 -8.195313 9.386719 -7.273438 L 8.078125 -6.964844 C 7.84375 -7.691406 7.507813 -8.222656 7.066406 -8.558594 C 6.625 -8.890625 6.066406 -9.058594 5.398438 -9.058594 C 4.625 -9.058594 3.984375 -8.871094 3.46875 -8.503906 C 2.953125 -8.128906 2.589844 -7.632813 2.378906 -7.015625 C 2.167969 -6.390625 2.0625 -5.75 2.0625 -5.09375 C 2.0625 -4.234375 2.183594 -3.492188 2.433594 -2.859375 C 2.679688 -2.222656 3.066406 -1.746094 3.59375 -1.433594 C 4.117188 -1.117188 4.6875 -0.960938 5.296875 -0.964844 C 6.039063 -0.960938 6.667969 -1.175781 7.183594 -1.605469 C 7.699219 -2.035156 8.046875 -2.671875 8.230469 -3.515625 Z M 8.230469 -3.515625 \"/>\n</symbol>\n<symbol overflow=\"visible\" id=\"glyph0-4\">\n<path style=\"stroke:none;\" d=\"M 1.078125 0 L 1.078125 -10.023438 L 4.53125 -10.023438 C 5.308594 -10.019531 5.90625 -9.972656 6.316406 -9.878906 C 6.890625 -9.746094 7.378906 -9.503906 7.785156 -9.160156 C 8.3125 -8.710938 8.707031 -8.140625 8.972656 -7.449219 C 9.230469 -6.75 9.363281 -5.957031 9.367188 -5.066406 C 9.363281 -4.300781 9.273438 -3.625 9.097656 -3.039063 C 8.917969 -2.449219 8.691406 -1.964844 8.414063 -1.582031 C 8.136719 -1.195313 7.832031 -0.890625 7.503906 -0.671875 C 7.171875 -0.449219 6.773438 -0.28125 6.304688 -0.171875 C 5.835938 -0.0546875 5.296875 0 4.695313 0 Z M 2.40625 -1.183594 L 4.546875 -1.183594 C 5.207031 -1.183594 5.722656 -1.242188 6.101563 -1.367188 C 6.472656 -1.484375 6.773438 -1.660156 7 -1.886719 C 7.3125 -2.199219 7.558594 -2.621094 7.734375 -3.15625 C 7.910156 -3.683594 7.996094 -4.328125 8 -5.085938 C 7.996094 -6.132813 7.824219 -6.9375 7.480469 -7.5 C 7.132813 -8.0625 6.714844 -8.4375 6.226563 -8.632813 C 5.871094 -8.765625 5.300781 -8.835938 4.511719 -8.839844 L 2.40625 -8.839844 Z M 2.40625 -1.183594 \"/>\n</symbol>\n</g>\n</defs>\n<g id=\"surface44\">\n<rect x=\"0\" y=\"0\" width=\"600\" height=\"600\" style=\"fill:rgb(100%,100%,100%);fill-opacity:1;stroke:none;\"/>\n<path style=\"fill:none;stroke-width:1;stroke-linecap:butt;stroke-linejoin:miter;stroke:rgb(26.666667%,26.666667%,26.666667%);stroke-opacity:1;stroke-miterlimit:10;\" d=\"M 580 301.25 C 416.859375 324.078125 323.402344 416.992188 299.636719 580 \"/>\n<path style=\"fill:none;stroke-width:1;stroke-linecap:butt;stroke-linejoin:miter;stroke:rgb(26.666667%,26.666667%,26.666667%);stroke-opacity:1;stroke-miterlimit:10;\" d=\"M 580 301.25 C 556.234375 464.257813 462.777344 557.175781 299.636719 580 \"/>\n<path style=\"fill:none;stroke-width:1;stroke-linecap:butt;stroke-linejoin:miter;stroke:rgb(26.666667%,26.666667%,26.666667%);stroke-opacity:1;stroke-miterlimit:10;\" d=\"M 299.636719 580 C 276.738281 416.339844 183.523438 322.589844 20 298.75 \"/>\n<path style=\"fill:none;stroke-width:1;stroke-linecap:butt;stroke-linejoin:miter;stroke:rgb(26.666667%,26.666667%,26.666667%);stroke-opacity:1;stroke-miterlimit:10;\" d=\"M 299.636719 580 C 136.113281 556.160156 42.898438 462.410156 20 298.75 \"/>\n<path style=\"fill:none;stroke-width:1;stroke-linecap:butt;stroke-linejoin:miter;stroke:rgb(26.666667%,26.666667%,26.666667%);stroke-opacity:1;stroke-miterlimit:10;\" d=\"M 580 301.25 L 300.363281 20 \"/>\n<path style=\"fill:none;stroke-width:1;stroke-linecap:butt;stroke-linejoin:miter;stroke:rgb(26.666667%,26.666667%,26.666667%);stroke-opacity:1;stroke-miterlimit:10;\" d=\"M 299.636719 580 L 300.363281 20 \"/>\n<path style=\"fill:none;stroke-width:1;stroke-linecap:butt;stroke-linejoin:miter;stroke:rgb(26.666667%,26.666667%,26.666667%);stroke-opacity:1;stroke-miterlimit:10;\" d=\"M 20 298.75 L 300.363281 20 \"/>\n<path style=\"fill-rule:nonzero;fill:rgb(100%,0%,0%);fill-opacity:1;stroke-width:1;stroke-linecap:butt;stroke-linejoin:miter;stroke:rgb(0%,0%,0%);stroke-opacity:1;stroke-miterlimit:10;\" d=\"M 590 301.25 C 590 306.773438 585.523438 311.25 580 311.25 C 574.476563 311.25 570 306.773438 570 301.25 C 570 295.726563 574.476563 291.25 580 291.25 C 585.523438 291.25 590 295.726563 590 301.25 \"/>\n<path style=\"fill-rule:nonzero;fill:rgb(100%,0%,0%);fill-opacity:1;stroke-width:1;stroke-linecap:butt;stroke-linejoin:miter;stroke:rgb(0%,0%,0%);stroke-opacity:1;stroke-miterlimit:10;\" d=\"M 309.636719 580 C 309.636719 585.523438 305.160156 590 299.636719 590 C 294.113281 590 289.636719 585.523438 289.636719 580 C 289.636719 574.476563 294.113281 570 299.636719 570 C 305.160156 570 309.636719 574.476563 309.636719 580 \"/>\n<path style=\"fill-rule:nonzero;fill:rgb(100%,0%,0%);fill-opacity:1;stroke-width:1;stroke-linecap:butt;stroke-linejoin:miter;stroke:rgb(0%,0%,0%);stroke-opacity:1;stroke-miterlimit:10;\" d=\"M 30 298.75 C 30 304.273438 25.523438 308.75 20 308.75 C 14.476563 308.75 10 304.273438 10 298.75 C 10 293.226563 14.476563 288.75 20 288.75 C 25.523438 288.75 30 293.226563 30 298.75 \"/>\n<path style=\"fill-rule:nonzero;fill:rgb(100%,0%,0%);fill-opacity:1;stroke-width:1;stroke-linecap:butt;stroke-linejoin:miter;stroke:rgb(0%,0%,0%);stroke-opacity:1;stroke-miterlimit:10;\" d=\"M 310.363281 20 C 310.363281 25.523438 305.886719 30 300.363281 30 C 294.839844 30 290.363281 25.523438 290.363281 20 C 290.363281 14.476563 294.839844 10 300.363281 10 C 305.886719 10 310.363281 14.476563 310.363281 20 \"/>\n<g style=\"fill:rgb(0%,0%,0%);fill-opacity:1;\">\n  <use xlink:href=\"#glyph0-1\" x=\"575.191406\" y=\"307.761719\"/>\n</g>\n<g style=\"fill:rgb(0%,0%,0%);fill-opacity:1;\">\n  <use xlink:href=\"#glyph0-2\" x=\"294.96875\" y=\"586.511719\"/>\n</g>\n<g style=\"fill:rgb(0%,0%,0%);fill-opacity:1;\">\n  <use xlink:href=\"#glyph0-3\" x=\"14.875\" y=\"305.34375\"/>\n</g>\n<g style=\"fill:rgb(0%,0%,0%);fill-opacity:1;\">\n  <use xlink:href=\"#glyph0-4\" x=\"295.140625\" y=\"26.511719\"/>\n</g>\n</g>\n</svg>\n",
      "text/plain": [
       "<igraph.drawing.cairo.plot.CairoPlot at 0x1b81dddd250>"
      ]
     },
     "execution_count": 38,
     "metadata": {
      "image/svg+xml": {
       "isolated": true
      }
     },
     "output_type": "execute_result"
    }
   ],
   "source": [
    "ig.plot(konigsbergBridges)"
   ]
  },
  {
   "cell_type": "markdown",
   "metadata": {},
   "source": [
    "\n",
    "#### 1.2.2) Redes e grafos:\n",
    "\n",
    "Se quisermos entender um sistema complexo, primeiro precisamos saber como seus componentes interagem entre si. Em outras palavras, precisamos de um mapa de seu diagrama de fiação. Uma rede é um catálogo de componentes de um sistema frequentemente chamados de **nós** ou **vértices** e as interações diretas entre eles, chamadas de **links** ou **arestas**. Essa representação de rede oferece uma linguagem comum para estudar sistemas que podem diferir muito em natureza, aparência ou escopo. De fato, como mostrado na figura 1.2, três sistemas bastante diferentes têm exatamente a mesma representação de rede.\n",
    "\n",
    "A Figura 1.2 apresenta dois parâmetros básicos de rede:\n",
    "\n",
    "**Número de nós**, ou $N$, representa o **número de componentes no sistema**. Frequentemente, chamaremos $N$ o **tamanho da rede**. Para distinguir os nós, nós os rotulamos com $i = 1, 2, ..., N$.\n",
    "\n",
    "**Número de links**, que denotamos com $L$, representa o **número total de interações entre os nós**. Os links raramente são rotulados, pois **podem ser identificados através dos nós que conectam**. Por exemplo, o link (2, 4) conecta os nós 2 e 4.\n",
    "\n",
    "As redes mostradas na imagem 1.2 têm $N = 4$ e $L = 4$.\n",
    "\n",
    "<center>\n",
    " \n",
    "<img src=\"https://github.com/gabrielxcosta/Simulation-of-epidemiological-models-in-temporal-mobility-networks/blob/main/Semana%202/Networks%20and%20Graphs.jpg?raw=true\"/>\n",
    "\n",
    "<em> **Redes diferentes, mesmo grafo:**\n",
    "A figura mostra um pequeno subconjunto (a) da Internet, onde roteadores (computadores especializados) estão conectados uns aos outros; (b) a rede de atores de Hollywood, onde dois atores estão conectados se atuaram no mesmo filme; (c) uma rede de interação proteína-proteína, onde duas proteínas são conectadas se houver evidência experimental de que elas podem se ligar uma à outra na célula. Embora a natureza dos nós e dos links seja diferente, essas redes têm a mesma representação gráfica, consistindo em $N = 4$ nós e $L = 4$ links, mostrados em (d). </em>\n",
    "\n",
    "</center>\n",
    "\n",
    "Os links de uma rede podem ser **direcionados** ou **não direcionados**. Alguns sistemas têm links direcionados, como a WWW, cujos localizadores uniformes de recursos (URL) apontam de um documento da Web para outro, ou ligações telefônicas, onde uma pessoa liga para a outra. Outros sistemas têm ligações não direcionadas, como laços românticos: se eu namoro Janet, Janet também namora comigo, ou como linhas de transmissão na rede elétrica, nas quais a corrente elétrica pode fluir nos dois sentidos.\n",
    "\n",
    "Uma rede é dita direcionada (ou **dígrafo**) se todos os seus links forem direcionados; ele é chamado de não direcionado se todos os seus links forem não direcionados. Algumas redes têm simultaneamente links direcionados e não direcionados. Por exemplo, na rede metabólica algumas reações são reversíveis (ou seja, bidirecionais ou não direcionadas) e outras são irreversíveis, ocorrendo em apenas uma direção (direcionada).\n",
    "\n",
    "As escolhas que fazemos quando representamos um sistema como uma rede determinarão nossa capacidade de usar a ciência de rede com sucesso para resolver um problema específico. Por exemplo, a forma como definimos as ligações entre dois indivíduos dita a natureza das questões que podemos explorar:\n",
    "\n",
    "• Ao conectar indivíduos que interagem regularmente entre si no contexto de seu trabalho, obtemos a rede organizacional ou profissional, que desempenha um papel fundamental no sucesso de uma empresa ou instituição, e é de grande interesse para a pesquisa organizacional.\n",
    "    \n",
    "• Ao unir amigos entre si, obtemos a rede de amizades, que desempenha um papel importante na difusão de ideias, produtos e hábitos e é de grande interesse para a sociologia, o marketing e as ciências da saúde.\n",
    "\n",
    "• Ao conectar indivíduos que têm uma relação íntima, obtemos a rede sexual, de fundamental importância para a disseminação de doenças sexualmente transmissíveis, como a AIDS, e de grande interesse para a epidemiologia.\n",
    "    \n",
    "• Ao usar registros de telefone e e-mail para conectar indivíduos que todos ou enviar e-mail uns aos outros, obtemos a rede de conhecimento, capturando uma mistura de vínculos profissionais, de amizade ou íntimos, importantes para comunicação e marketing.\n",
    "\n",
    "Também podemos construir redes que podem ser válidas do ponto de vista teórico dos grafos, mas podem ter pouca utilidade prática. Por exemplo, se ligarmos todos os indivíduos com o mesmo nome, Johns com Johns e Marys com Marys, obtemos um grafo bem definido, cujas propriedades podem ser analisadas com as ferramentas da ciência de redes. Sua utilidade é questionável, no entanto. Portanto, para aplicar a teoria de rede a um sistema, considerações cuidadosas devem preceder nossa escolha de nós e links, garantindo sua significância para o problema que desejamos explorar.\n",
    "\n",
    "#### 1.2.3) Grau, Grau Médio e Distribuição de Grau\n",
    "\n",
    "Uma propriedade chave de cada nó é o seu **grau**, representando o **número de ligações que possui com outros nós**. O grau pode representar o número de contatos de celular que um indivíduo tem no grafo de chamadas (ou seja, o número de diferentes indivíduos com quem a pessoa conversou) ou o número de citações que um trabalho de pesquisa obtém na rede de citações.\n",
    "\n",
    "**Grau:**\n",
    "\n",
    "Denotamos com $k_{i}$ o grau do i-ésimo nó na rede. Por exemplo, para as redes não direcionadas mostradas na imagem 1.2 temos $k_{1} = 2$, $k_{2}=3$, $k_{3}=2$, $k_{4}=1$. **Em uma rede não direcionada, o número total de links, L, pode ser expresso como a soma dos graus dos nós**:\n",
    "\n",
    "$$L = \\frac{1}{2} \\sum_{i=1}^{N} k_{i}$$\n",
    "\n",
    "Aqui o fator $\\frac{1}{2}$ corrige o fato de que na soma cada link é contado duas vezes. Por exemplo, o link que conecta os nós 2 e 4 na imagem 1.2 será contado uma vez no grau do nó 1 e uma vez no grau do nó 4.\n",
    "\n",
    "**Grau Médio:**\n",
    "\n",
    "Uma propriedade importante de uma rede é o seu grau médio, que para uma **rede não direcionada** é:\n",
    "\n",
    "$$⟨k⟩ = \\frac{1}{N} \\sum_{i=1}^{N} k_{i} = \\frac{2L}{N}$$ \n",
    "\n",
    "Em **redes direcionadas**, distinguimos entre **grau de entrada**, $k_{i}^{in}$, representando o número de links que apontam para o nó $i$, e **grau de saída**, $k_{i}^{out}$, representando o número de links que apontam do nó $i$ para outros nós. Finalmente, o **grau total** de um nó, $k_{i}$, é dado por\n",
    "\n",
    "$$k_{i} = k_{i}^{in} + k_{i}^{out}$$\n",
    "\n",
    "Por exemplo, na WWW, o número de páginas para as quais um determinado documento aponta representa seu grau de saída, $k^{out}$, e o número de documentos que apontam para ele representa seu grau de entrada, $k^{in}$. O número total de links em uma rede direcionada é\n",
    "\n",
    "$$L = \\sum_{i=1}^{N} k_{i}^{in} = \\sum_{i=1}^{N} k_{i}^{out}$$\n",
    "\n",
    "O fator $\\frac{1}{2}$ visto na primeira equação agora está ausente, pois para redes direcionadas as duas somas contam separadamente os graus de saída e entrada. O grau médio de uma rede direcionada é\n",
    "\n",
    "$$⟨k^{in}⟩ = \\frac{1}{N} \\sum_{i=1}^{N} k_{i}^{in} = ⟨k^{out}⟩ = \\frac{1}{N} \\sum_{i=1}^{N} k_{i}^{out} = \\frac{L}{N}$$\n",
    "\n",
    "**Distribuição de graus:**\n",
    "\n",
    "A distribuição de grau, $p_{k}$, fornece a probabilidade de que um nó selecionado aleatoriamente na rede tenha grau $k$. Como $p_{k}$ é uma probabilidade, ela deve ser normalizada, ou seja,\n",
    "\n",
    "$$\\sum_{k=1}^{\\infty} p_{k} = 1$$\n",
    "\n",
    "Para uma rede com $N$ nós a distribuição de grau é o histograma normalizado (imagem 1.3) é dado por\n",
    "\n",
    "$$p_{k} = \\frac{N_{k}}{N}$$\n",
    "\n",
    "onde $N_{k}$ é o número de nós de grau $k$. Portanto, o número de nós de grau $k$ pode ser obtido a partir da distribuição de grau como $N_{k} = N_{p_{k}}$.\n",
    "\n",
    "A distribuição de graus assumiu um papel central na teoria de redes após a descoberta de **redes livres de escala**. Uma razão é que o cálculo da maioria das propriedades de rede exige que conheçamos $p_{k}$. Por exemplo, o grau médio de uma rede pode ser escrito como\n",
    "\n",
    "$$⟨k⟩ = \\sum_{k=0}^{\\infty} k p_{k}$$\n",
    "\n",
    "A outra razão é que a forma funcional precisa de $p_{k}$ determina muitos fenômenos de rede, desde a robustez da rede até a uma **disseminação de vírus**.\n",
    "\n",
    "<center>\n",
    "<img src=\"https://github.com/gabrielxcosta/Simulation-of-epidemiological-models-in-temporal-mobility-networks/blob/main/Semana%202/Degree%20distribution.jpg?raw=true\"/>\n",
    "\n",
    "<em> A distribuição de grau de uma rede é fornecida pela razão $p_{k} = \\frac{N_{k}}{N}$.\n",
    "     Para a rede em (a) com $N = 4$ a distribuição de grau é mostrada em (b).\n",
    "     Temos $p_{1} = \\frac{1}{4}$ (um dos quatro nós tem grau $k_{1}1 = 1$), $p_{2} = \\frac{1}{2}$ (dois nós têm $k3 = k4 = 2$) e $p_{3} = \\frac{1}{4}$ (como $k_{2} = 3$). Como não temos nós com grau $k > 3$, $p_{k} = 0$ para qualquer $k > 3$.\n",
    "     Uma rede unidimensional para a qual cada nó tem o mesmo grau $k = 2$.\n",
    "     A distribuição de graus de (c) é uma função delta de Kronecker, $p_{k} = δ(k - 2)$.\n",
    "</em>\n",
    "</center>\n",
    "\n",
    "#### 1.2.4) Matriz de adjacências:\n",
    "\n",
    "Uma descrição completa de uma rede exige que acompanhemos seus links. A maneira mais simples de conseguir isso é fornecer uma lista completa dos links. Por exemplo, a rede da imagem 1.2 é descrita exclusivamente listando seus quatro links: {(1, 2), (1, 3), (2, 3), (2, 4)}. Para fins matemáticos, muitas vezes representamos uma rede por meio de sua **matriz de adjacências**. A matriz de adjacências de uma rede direcionada de $N$ nós possui $N$ linhas e $N$ colunas, sendo seus elementos:\n",
    "\n",
    "$A_{ij} = 1$ se houver um link apontando do nó $j$ para o nó $i$;\n",
    "\n",
    "$A_{ij} = 0$ se os nós $i$ e $j$ não estiverem conectados entre si.\n",
    "\n",
    "A matriz de adjacência de uma rede não direcionada tem duas entradas para cada link, por exemplo. link (1, 2) é representado como $A_{12} = 1$ e $A_{21} = 1$. Portanto, a **matriz de adjacência de uma rede não direcionada é simétrica**, $Aij = Aji$ (Imagem 1.4b)\n",
    "\n",
    "O grau $k_{i}$ do nó $i$ pode ser obtido diretamente dos elementos da matriz de adjacência. Para redes não direcionadas, o grau de um nó é uma soma sobre as linhas ou colunas da matriz, ou seja,\n",
    "\n",
    "$$k_{i} = \\sum_{j=1}^{N} A_{ji} = \\sum_{i=1}^{N} A_{ji}$$\n",
    "\n",
    "Para **redes direcionadas, as somas sobre as linhas e colunas da matriz de adjacência fornecem os graus de entrada e saída**, respectivamente\n",
    "\n",
    "$$k_{i}^{in} = \\sum_{j=1}^{N} A_{ij}, k_{i}^{out} = \\sum_{j=1}^{N} A_{ji}$$\n",
    "\n",
    "Dado que em uma rede não direcionada o número de links de saída é igual ao número de links de entrada, temos\n",
    "\n",
    "$$2L = \\sum_{i=1}^{N} k_{i}^{in} = \\sum_{i=1}^{N} k_{i}^{out} = \\sum_{ij}^{N} A_{ij}$$\n",
    "\n",
    "O número de elementos diferentes de zero da matriz de adjacência é $2L$, ou duas vezes o número de links. De fato, um link não direcionado conectando os nós $i$ e $j$ aparece em duas entradas: $A_{ij} = 1$, um link apontando do nó $j$ para o nó $i$, e $A_{ji} = 1$, um link apontando de $i$ para $j$ (figura 1.4b).\n",
    "\n",
    "<center>\n",
    "<img src=\"https://github.com/gabrielxcosta/Simulation-of-epidemiological-models-in-temporal-mobility-networks/blob/main/Semana%202/Adjacency%20matrix.jpg?raw=true\"/>\n",
    "\n",
    "<em> A rotulagem dos elementos da matriz de adjacência.\n",
    "     A matriz de adjacência de uma rede não direcionada. A figura mostra que o grau de um nó (neste caso o nó $2$) pode ser expresso como a soma sobre a coluna ou linha apropriada da matriz de adjacência. Também mostra algumas características básicas da rede, como o número total de links, $L$, e o grau médio, $‹k›$, expresso em termos dos elementos da matriz de adjacência.\n",
    "     O mesmo que em (b), mas para uma rede direcionada.\n",
    "</em>\n",
    "</center>"
   ]
  },
  {
   "cell_type": "markdown",
   "metadata": {},
   "source": [
    "## baidu_in_20200101 - Janeiro\n",
    "### 2.1) Construindo a matriz de adjacências:"
   ]
  },
  {
   "cell_type": "code",
   "execution_count": 39,
   "metadata": {},
   "outputs": [],
   "source": [
    "# Lendo o arquivo CSV e criando um DataFrame a partir do mesmo\n",
    "dfJanuary = pd.read_csv(r'C:\\Users\\55119\\Documents\\Estudos\\IC\\Semana 2\\baidu_in_20200101.csv')\n",
    "\n",
    "dfJanuary.info()"
   ]
  },
  {
   "cell_type": "code",
   "execution_count": null,
   "metadata": {},
   "outputs": [],
   "source": [
    "dfJanuary.head(10)"
   ]
  },
  {
   "cell_type": "code",
   "execution_count": null,
   "metadata": {},
   "outputs": [],
   "source": [
    "# Preenchendo os NaN com zeros\n",
    "dfJanuary = dfJanuary.fillna(0)\n",
    "\n",
    "dfJanuary.head(10)"
   ]
  },
  {
   "cell_type": "code",
   "execution_count": null,
   "metadata": {},
   "outputs": [],
   "source": [
    "cityNamesJan = dfJanuary.pop('city_name')\n",
    "adjMatrixJan = dfJanuary.values\n",
    "print(adjMatrixJan)"
   ]
  },
  {
   "cell_type": "markdown",
   "metadata": {},
   "source": [
    "### 2.2) Criando um grafo a partir da matriz:"
   ]
  },
  {
   "cell_type": "code",
   "execution_count": null,
   "metadata": {},
   "outputs": [],
   "source": [
    "gJan = ig.Graph.Weighted_Adjacency(\n",
    "    adjMatrixJan.tolist()\n",
    ")"
   ]
  },
  {
   "cell_type": "code",
   "execution_count": null,
   "metadata": {},
   "outputs": [],
   "source": [
    "ig.plot(gJan)"
   ]
  },
  {
   "cell_type": "markdown",
   "metadata": {},
   "source": [
    "## baidu_in_20200102 - Fevereiro\n",
    "### 3.1) Matriz de adjacências:"
   ]
  },
  {
   "cell_type": "code",
   "execution_count": null,
   "metadata": {},
   "outputs": [],
   "source": [
    "# Lendo o arquivo CSV e criando um DataFrame a partir do mesmo\n",
    "dfFebruary = pd.read_csv(r'C:\\Users\\55119\\Documents\\Estudos\\IC\\Semana 2\\baidu_in_20200102.csv')\n",
    "\n",
    "dfFebruary.info()"
   ]
  },
  {
   "cell_type": "code",
   "execution_count": null,
   "metadata": {},
   "outputs": [],
   "source": [
    "dfFebruary.head(10)"
   ]
  },
  {
   "cell_type": "code",
   "execution_count": null,
   "metadata": {},
   "outputs": [],
   "source": [
    "# Preenchendo os NaN com zeros\n",
    "dfFebruary = dfFebruary.fillna(0)\n",
    "\n",
    "dfFebruary.head(10)"
   ]
  },
  {
   "cell_type": "code",
   "execution_count": null,
   "metadata": {},
   "outputs": [],
   "source": [
    "cityNamesFeb = dfFebruary.pop('city_name')\n",
    "adjMatrixFeb = dfFebruary.values\n",
    "print(adjMatrixFeb)"
   ]
  },
  {
   "cell_type": "markdown",
   "metadata": {},
   "source": [
    "### 3.2) Criando um grafo a partir da matriz:"
   ]
  },
  {
   "cell_type": "code",
   "execution_count": null,
   "metadata": {},
   "outputs": [],
   "source": [
    "gFeb = ig.Graph.Weighted_Adjacency(\n",
    "    adjMatrixFeb.tolist()\n",
    ")"
   ]
  },
  {
   "cell_type": "code",
   "execution_count": null,
   "metadata": {},
   "outputs": [],
   "source": [
    "ig.plot(gFeb)"
   ]
  }
 ],
 "metadata": {
  "kernelspec": {
   "display_name": "Python 3.9.5 64-bit",
   "language": "python",
   "name": "python3"
  },
  "language_info": {
   "codemirror_mode": {
    "name": "ipython",
    "version": 3
   },
   "file_extension": ".py",
   "mimetype": "text/x-python",
   "name": "python",
   "nbconvert_exporter": "python",
   "pygments_lexer": "ipython3",
   "version": "3.9.5"
  },
  "orig_nbformat": 4,
  "vscode": {
   "interpreter": {
    "hash": "06c6a7cecdc1ca885f9e043684d8a27e7d8eb3672be3304fe51e278cedebed10"
   }
  }
 },
 "nbformat": 4,
 "nbformat_minor": 2
}
