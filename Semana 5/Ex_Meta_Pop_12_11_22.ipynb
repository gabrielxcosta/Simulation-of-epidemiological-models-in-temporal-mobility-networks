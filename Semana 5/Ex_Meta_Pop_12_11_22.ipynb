{
  "nbformat": 4,
  "nbformat_minor": 0,
  "metadata": {
    "colab": {
      "provenance": [],
      "collapsed_sections": [
        "JE3r4_bt_I0E",
        "UIO178RFHG9M",
        "Fw9mXsfRF9NJ",
        "aIzMSOrJDqAt"
      ]
    },
    "kernelspec": {
      "name": "python3",
      "display_name": "Python 3"
    },
    "language_info": {
      "name": "python"
    }
  },
  "cells": [
    {
      "cell_type": "code",
      "source": [
        "from time import perf_counter\n",
        "start_total = perf_counter()"
      ],
      "metadata": {
        "id": "qDsEHMijmnfk"
      },
      "execution_count": null,
      "outputs": []
    },
    {
      "cell_type": "code",
      "execution_count": null,
      "metadata": {
        "id": "UH_-uj_EPZVG"
      },
      "outputs": [],
      "source": [
        "%%capture\n",
        "import plotly.graph_objects as go\n",
        "from plotly.subplots import make_subplots\n",
        "import numpy as np\n",
        "import pandas as pd\n",
        "from scipy.integrate import odeint\n",
        "!pip install -U kaleido \n",
        "!pip install kora -q\n",
        "import kora.install.orca\n",
        "import os\n",
        "if not os.path.exists(\"images\"):\n",
        "    os.mkdir(\"images\")\n",
        "import networkx as nx\n",
        "import random\n",
        "from collections import defaultdict\n",
        "!pip install kaleido\n",
        "!pip install plotly>=4.0.0\n",
        "!wget https://github.com/plotly/orca/releases/download/v1.2.1/orca-1.2.1-x86_64.AppImage -O /usr/local/bin/orca\n",
        "!chmod +x /usr/local/bin/orca\n",
        "!apt-get update\n",
        "!apt-get install xvfb libgtk2.0-0 libgconf-2-4 \n",
        "margem = dict(l=50,r=50,b=50,t=50,pad=4)"
      ]
    },
    {
      "cell_type": "markdown",
      "source": [
        "# Deterministico"
      ],
      "metadata": {
        "id": "7fgih0nNj5Dm"
      }
    },
    {
      "cell_type": "markdown",
      "source": [
        "$$\n",
        "\\begin{align*} \n",
        "\\frac{dS(t)}{dt} =& -\\beta \\times  \\frac{I(t) }{N}S(t)\\\\\n",
        "\\frac{dI(t)}{dt} =& \\beta \\times  \\frac{I(t) }{N}S(t) - \\gamma I(t)\\\\\n",
        "\\frac{dR(t)}{dt} =& \\gamma I(t)\\\\\n",
        "\\end{align*}\n",
        "$$"
      ],
      "metadata": {
        "id": "auYk9SnCXry_"
      }
    },
    {
      "cell_type": "markdown",
      "source": [
        "Cravar em 0.5% I_0"
      ],
      "metadata": {
        "id": "m3VEvSt1nQL8"
      }
    },
    {
      "cell_type": "code",
      "source": [
        "def deriv(y, t, N, beta, gamma):\n",
        "    S, I, R = y\n",
        "\n",
        "    print(S, '', I, '', R)\n",
        "\n",
        "    dSdt = -beta * S * I / N\n",
        "    dIdt = beta  * S * I / N - gamma * I\n",
        "    dRdt = gamma * I\n",
        "\n",
        "    return dSdt, dIdt, dRdt"
      ],
      "metadata": {
        "id": "QNAKDSFnusr4"
      },
      "execution_count": null,
      "outputs": []
    },
    {
      "cell_type": "code",
      "source": [
        "N = 100000\n",
        "I0, R0 = 500, 0\n",
        "S0 = N - I0 - R0\n",
        "beta, gamma = 0.625, 0.2\n",
        "t = np.linspace(0, 60, 1000)\n",
        "y0 = S0, I0, R0\n",
        "ret = odeint(deriv, y0, t, args=(N, beta, gamma))\n",
        "S, I, R = ret.T\n",
        "type(S)"
      ],
      "metadata": {
        "id": "6P3kU0l5mfS8"
      },
      "execution_count": null,
      "outputs": []
    },
    {
      "cell_type": "code",
      "source": [
        "N = 100000\n",
        "I0, R0 = 500, 0\n",
        "S0 = N - I0 - R0\n",
        "beta, gamma = 0.625, 0.2\n",
        "t = np.linspace(0, 60, 1000)\n",
        "y0 = S0, I0, R0\n",
        "ret = odeint(deriv, y0, t, args=(N, beta, gamma))\n",
        "S, I, R = ret.T\n",
        "fig = go.Figure()\n",
        "fig.add_trace(go.Scatter(x = t,\n",
        "                         y = S,\n",
        "                         mode = 'lines',\n",
        "                         name = 'Susceptível'))\n",
        "fig.add_trace(go.Scatter(x = t,\n",
        "                         y = I,\n",
        "                         mode = 'lines',\n",
        "                         name = 'Infeccioso'))\n",
        "fig.add_trace(go.Scatter(x = t,\n",
        "                         y = R,\n",
        "                         mode = 'lines',\n",
        "                         name = 'Recuperado'))\n",
        "fig.update_layout(title='Modelo SIR Determinístico',\n",
        "                  xaxis_title='Tempo (dias)',\n",
        "                  yaxis_title='Número de Indivíduos',\n",
        "                  width=600,\n",
        "                  height=300,\n",
        "                  margin=margem\n",
        "                  )\n",
        "fig.show()\n",
        "fig.write_image(\"images/DeterministicoPT.svg\")\n",
        "fig = go.Figure()\n",
        "fig.add_trace(go.Scatter(x = t,\n",
        "                         y = S,\n",
        "                         mode = 'lines',\n",
        "                         name = 'Susceptible'))\n",
        "fig.add_trace(go.Scatter(x = t,\n",
        "                         y = I,\n",
        "                         mode = 'lines',\n",
        "                         name = 'Infectious'))\n",
        "fig.add_trace(go.Scatter(x = t,\n",
        "                         y = R,\n",
        "                         mode = 'lines',\n",
        "                         name = 'Recovered'))\n",
        "fig.update_layout(title='Deterministic SIR Model',\n",
        "                  xaxis_title='Time (days)',\n",
        "                  yaxis_title='Individuals number',\n",
        "                  width=600,\n",
        "                  height=300,\n",
        "                  margin=margem\n",
        "                  )\n",
        "fig.show()\n",
        "fig.write_image(\"images/DeterministicoEN.svg\")"
      ],
      "metadata": {
        "id": "BSDeaNZ0uzuv"
      },
      "execution_count": null,
      "outputs": []
    },
    {
      "cell_type": "markdown",
      "source": [
        "# Grafo"
      ],
      "metadata": {
        "id": "JE3r4_bt_I0E"
      }
    },
    {
      "cell_type": "code",
      "source": [
        "triangle = nx.Graph()\n",
        "triangle.add_edges_from([(\"A\", \"B\"), (\"A\", \"C\"), (\"B\", \"C\")])\n",
        "\n",
        "nx.draw_spring(triangle, with_labels=True)\n"
      ],
      "metadata": {
        "id": "8meoL3wo_Kvq"
      },
      "execution_count": null,
      "outputs": []
    },
    {
      "cell_type": "markdown",
      "source": [
        "# Criando o DF"
      ],
      "metadata": {
        "id": "UIO178RFHG9M"
      }
    },
    {
      "cell_type": "code",
      "source": [
        "N = 100000\n",
        "t = np.linspace(0, 60, 1000)\n",
        "size = 3\n",
        "s = pd.Series(['A','B','C'])\n",
        "# df = pd.DataFrame({'S': [N - 500, N - 500, N - 500], 'I': [500, 500, 500], 'R': [0,0,0], 'beta': [0.8, 0.625, 0.5], 'gamma': [0.2,0.2,0.2]})\n",
        "df = pd.DataFrame({'S': [N - 500, N - 500, N - 500], 'I': [500, 500, 500], 'R': [0,0,0], 'beta': [0.625, 0.625, 0.625], 'gamma': [0.1,0.2,0.4], 'N': [N, N, N]})\n",
        "\n",
        "df.set_index(s, inplace=True)\n",
        "df"
      ],
      "metadata": {
        "id": "g1BF4FNSAkGQ"
      },
      "execution_count": null,
      "outputs": []
    },
    {
      "cell_type": "code",
      "source": [
        "y = df.loc[\"A\"].S, df.loc[\"A\"].I, df.loc[\"A\"].R\n",
        "\n",
        "print(y)\n",
        "result_A = deriv(y, t, N, df.loc[\"A\"].beta, df.loc[\"A\"].gamma)"
      ],
      "metadata": {
        "id": "qhIYMOFeCCtH"
      },
      "execution_count": null,
      "outputs": []
    },
    {
      "cell_type": "code",
      "source": [
        "result_A"
      ],
      "metadata": {
        "id": "AEDQjTIPD9nj"
      },
      "execution_count": null,
      "outputs": []
    },
    {
      "cell_type": "markdown",
      "source": [
        "## Separação em lugares"
      ],
      "metadata": {
        "id": "Fw9mXsfRF9NJ"
      }
    },
    {
      "cell_type": "code",
      "source": [
        "ret_A = odeint(deriv, y, t, args=(N, df.loc[\"A\"].beta, df.loc[\"A\"].gamma))\n",
        "S_A, I_A, R_A = ret_A.T\n",
        "fig = go.Figure()\n",
        "fig.add_trace(go.Scatter(x = t,\n",
        "                         y = S_A,\n",
        "                         mode = 'lines',\n",
        "                         name = 'Susceptível'))\n",
        "fig.add_trace(go.Scatter(x = t,\n",
        "                         y = I_A,\n",
        "                         mode = 'lines',\n",
        "                         name = 'Infeccioso'))\n",
        "fig.add_trace(go.Scatter(x = t,\n",
        "                         y = R_A,\n",
        "                         mode = 'lines',\n",
        "                         name = 'Recuperado'))\n",
        "fig.update_layout(title='Modelo SIR Determinístico',\n",
        "                  xaxis_title='Tempo (dias)',\n",
        "                  yaxis_title='Número de Indivíduos',\n",
        "                  width=600,\n",
        "                  height=300,\n",
        "                  margin=margem\n",
        "                  )\n",
        "fig.show()"
      ],
      "metadata": {
        "id": "pq5qvRQUFIEy"
      },
      "execution_count": null,
      "outputs": []
    },
    {
      "cell_type": "code",
      "source": [
        "ret_B = odeint(deriv, y, t, args=(N, df.loc[\"B\"].beta, df.loc[\"B\"].gamma))\n",
        "S_B, I_B, R_B = ret_B.T\n",
        "fig = go.Figure()\n",
        "fig.add_trace(go.Scatter(x = t,\n",
        "                         y = S_B,\n",
        "                         mode = 'lines',\n",
        "                         name = 'Susceptível'))\n",
        "fig.add_trace(go.Scatter(x = t,\n",
        "                         y = I_B,\n",
        "                         mode = 'lines',\n",
        "                         name = 'Infeccioso'))\n",
        "fig.add_trace(go.Scatter(x = t,\n",
        "                         y = R_B,\n",
        "                         mode = 'lines',\n",
        "                         name = 'Recuperado'))\n",
        "fig.update_layout(title='Modelo SIR Determinístico',\n",
        "                  xaxis_title='Tempo (dias)',\n",
        "                  yaxis_title='Número de Indivíduos',\n",
        "                  width=600,\n",
        "                  height=300,\n",
        "                  margin=margem\n",
        "                  )\n",
        "fig.show()"
      ],
      "metadata": {
        "id": "XgfM7UkWE2Bo"
      },
      "execution_count": null,
      "outputs": []
    },
    {
      "cell_type": "code",
      "source": [
        "ret_C = odeint(deriv, y, t, args=(N, df.loc[\"C\"].beta, df.loc[\"C\"].gamma))\n",
        "S_C, I_C, R_C = ret_C.T\n",
        "fig = go.Figure()\n",
        "fig.add_trace(go.Scatter(x = t,\n",
        "                         y = S_C,\n",
        "                         mode = 'lines',\n",
        "                         name = 'Susceptível'))\n",
        "fig.add_trace(go.Scatter(x = t,\n",
        "                         y = I_C,\n",
        "                         mode = 'lines',\n",
        "                         name = 'Infeccioso'))\n",
        "fig.add_trace(go.Scatter(x = t,\n",
        "                         y = R_C,\n",
        "                         mode = 'lines',\n",
        "                         name = 'Recuperado'))\n",
        "fig.update_layout(title='Modelo SIR Determinístico',\n",
        "                  xaxis_title='Tempo (dias)',\n",
        "                  yaxis_title='Número de Indivíduos',\n",
        "                  width=600,\n",
        "                  height=300,\n",
        "                  margin=margem\n",
        "                  )\n",
        "fig.show()"
      ],
      "metadata": {
        "id": "aKMwPg4lE5pr"
      },
      "execution_count": null,
      "outputs": []
    },
    {
      "cell_type": "code",
      "source": [
        "fig = go.Figure()\n",
        "\n",
        "fig.add_trace(go.Scatter(x = t,\n",
        "                         y = I_A,\n",
        "                         mode = 'lines',\n",
        "                         name = 'I_A'))\n",
        "fig.add_trace(go.Scatter(x = t,\n",
        "                         y = I_B,\n",
        "                         mode = 'lines',\n",
        "                         name = 'I_B'))\n",
        "fig.add_trace(go.Scatter(x = t,\n",
        "                         y = I_C,\n",
        "                         mode = 'lines',\n",
        "                         name = 'I_C'))\n",
        "fig.update_layout(title='',\n",
        "                  xaxis_title='Tempo (dias)',\n",
        "                  yaxis_title='Número de Indivíduos',\n",
        "                  width=600,\n",
        "                  height=300,\n",
        "                  margin=margem\n",
        "                  )\n",
        "fig.show()"
      ],
      "metadata": {
        "id": "kWvtx3KKGBE3"
      },
      "execution_count": null,
      "outputs": []
    },
    {
      "cell_type": "markdown",
      "source": [
        "# interação entre nós"
      ],
      "metadata": {
        "id": "A0vrdpJiH3hD"
      }
    },
    {
      "cell_type": "markdown",
      "source": [
        "$$\n",
        "\\begin{align*} \n",
        "\\frac{dS_i(t)}{dt} =& -\\beta \\times  \\frac{\\frac{M_{ii}}{N_i}I_i(t) }{\\frac{M_{ii}}{N_i}N_i} \\frac{M_{ii}}{N_i}S_i(t)\\\\\n",
        "\\frac{dI_i(t)}{dt} =& \\beta \\times \\frac{\\frac{M_{ii}}{N_i}I_i(t) }{\\frac{M_{ii}}{N_i}N_i}\\frac{M_{ii}}{N_i}S_i(t) - \\gamma I_i(t)\\\\\n",
        "\\frac{dR_i(t)}{dt} =& \\gamma I_i(t)\\\\\n",
        "\\end{align*}\n",
        "$$"
      ],
      "metadata": {
        "id": "h2uq93TFH4_p"
      }
    },
    {
      "cell_type": "code",
      "source": [
        "N = 100000\n",
        "t = np.linspace(0, 60, 1000)\n",
        "size = 3\n",
        "s = pd.Series(['A','B','C'])\n",
        "# df = pd.DataFrame({'S': [N - 500, N - 500, N - 500], 'I': [500, 500, 500], 'R': [0,0,0], 'beta': [0.8, 0.625, 0.5], 'gamma': [0.2,0.2,0.2]})\n",
        "df = pd.DataFrame({'S': [N - 500, N - 500, N - 500], 'I': [500, 500, 500], 'R': [0,0,0], 'beta': [0.625, 0.625, 0.625], 'gamma': [0.1,0.2,0.4], 'N': [N, N, N]})\n",
        "\n",
        "df.set_index(s, inplace=True)\n",
        "df\n",
        "\n",
        "def deriv(df, t, M):\n",
        "  size = len(df)\n",
        "  dSdt = []\n",
        "  dIdt = []\n",
        "  dRdt = []\n",
        "  for i in range(size):\n",
        "    S, I, R, N = df.iloc[i].S, df.iloc[i].I, df.iloc[i].R, df.iloc[i].N\n",
        "    dSdt.append(-beta * (I / N) * S * (M[i][i]/N))\n",
        "    dIdt.append(beta  * (I / N) * S * (M[i][i]/N) - gamma * I)\n",
        "    dRdt.append(gamma * I)\n",
        "  return dSdt, dIdt, dRdt"
      ],
      "metadata": {
        "id": "w9dsCTT-IeNT"
      },
      "execution_count": null,
      "outputs": []
    },
    {
      "cell_type": "code",
      "source": [
        "ret_C = odeint(deriv(df), y, t, args=(N, df.loc[\"C\"].beta, df.loc[\"C\"].gamma))\n",
        "S_C, I_C, R_C = ret_C.T"
      ],
      "metadata": {
        "id": "vZ1j-Pc8P3OJ"
      },
      "execution_count": null,
      "outputs": []
    },
    {
      "cell_type": "markdown",
      "source": [
        "# Fernando"
      ],
      "metadata": {
        "id": "aIzMSOrJDqAt"
      }
    },
    {
      "cell_type": "code",
      "source": [
        "# Grafo base\n",
        "triangle = nx.Graph()\n",
        "triangle.add_edges_from([(\"A\", \"B\"), (\"A\", \"C\"), (\"B\", \"C\")])\n",
        "\n",
        "nx.draw_spring(triangle, with_labels=True)"
      ],
      "metadata": {
        "id": "d-KqSx4WGRqL"
      },
      "execution_count": null,
      "outputs": []
    },
    {
      "cell_type": "code",
      "source": [
        "import random\n",
        "E = triangle.number_of_edges()\n",
        "print(\"Numero de vertices \", E)\n",
        "# Colocando peso nos vertices\n",
        "w = [random.random() for i in range(E)]\n",
        "print(\"Pesos dos vertices \", w)\n",
        "s = max(w)\n",
        "print(\"Peso máximo \", s)\n",
        "w = [ i/s for i in w ] #normalizing\n",
        "print(\"Normalizando pesos\", w)\n",
        "#len(w)\n",
        "k = 0\n",
        "for i, j in triangle.edges():\n",
        "    triangle[i][j]['weight'] = w[k]\n",
        "    k+=1\n",
        "import matplotlib.pyplot as plt\n",
        "edgewidth = [d['weight'] for (u,v,d) in triangle.edges(data=True)]\n",
        "# layout\n",
        "#pos = nx.spring_layout(G, iterations=50)\n",
        "pos = nx.spring_layout(triangle)\n",
        "labels = {}\n",
        "for i in list(pos.keys()):\n",
        "    labels[i] = i\n",
        "# rendering\n",
        "plt.figure()#figsize=(40,40)\n",
        "nx.draw_networkx_nodes(triangle, pos)\n",
        "nx.draw_networkx_edges(triangle, pos, width=edgewidth, node_size=500)\n",
        "nx.draw_networkx_labels(triangle, pos, labels)\n",
        "plt.axis('off')"
      ],
      "metadata": {
        "id": "ntqgiBXDGMK1"
      },
      "execution_count": null,
      "outputs": []
    },
    {
      "cell_type": "code",
      "source": [
        "def deriv_net_1(y, t, N, beta, gamma, M):\n",
        "    S, I, R = y[0], y[1], y[2]\n",
        "\n",
        "    print(f'S = {S}', f'I = {I}', f'R = {R}', f'N = {N}', sep='\\n')\n",
        "    print()\n",
        "\n",
        "    dSdt = (-beta * (I / N) * S * (M/N))\n",
        "    dIdt = (-dSdt - gamma * I)\n",
        "    dRdt = (gamma * I)\n",
        "    return dSdt, dIdt, dRdt"
      ],
      "metadata": {
        "id": "1SDOIi7PFF6F"
      },
      "execution_count": null,
      "outputs": []
    },
    {
      "cell_type": "code",
      "source": [
        "N = np.array([33333, 33333, 33333])\n",
        "I0 = np.array([200, 200, 200])\n",
        "R0 = np.array([0, 0, 0])\n",
        "S0 = N - I0 - R0\n",
        "beta, gamma = 0.625, 0.2\n",
        "t = np.linspace(0, 120, 10000)\n",
        "y0 = np.concatenate(([S0], [I0], [R0]),axis=0).T\n",
        "SIR_A = np.zeros((t.size,3))\n",
        "SIR_B = np.zeros((t.size,3))\n",
        "SIR_C = np.zeros((t.size,3))\n",
        "for i in range(t.size):\n",
        "    y = y0.copy()\n",
        "    SIR_A[i][0] = y[0][0].copy()\n",
        "    SIR_A[i][1] = y[0][1].copy()\n",
        "    SIR_A[i][2] = y[0][2].copy()\n",
        "    SIR_B[i][0] = y[1][0].copy()\n",
        "    SIR_B[i][1] = y[1][1].copy()\n",
        "    SIR_B[i][2] = y[1][2].copy()\n",
        "    SIR_C[i][0] = y[1][0].copy()\n",
        "    SIR_C[i][1] = y[1][1].copy()\n",
        "    SIR_C[i][2] = y[1][2].copy()\n",
        "    # dSdt_A, dIdt_A, dRdt_A = deriv_net_1(y[0], t, N, beta, gamma, edgewidth[0])\n",
        "    # dSdt_B, dIdt_B, dRdt_B = deriv_net_1(y[1], t, N, beta, gamma, edgewidth[1])\n",
        "    # dSdt_C, dIdt_C, dRdt_C = deriv_net_1(y[2], t, N, beta, gamma, edgewidth[2])\n",
        "    ret_A = odeint(deriv_net_1, y[0], t[0:2], args=(N[0], beta, gamma, 10000))\n",
        "    ret_B = odeint(deriv_net_1, y[1], t[0:2], args=(N[1], beta, gamma, 15000))\n",
        "    ret_C = odeint(deriv_net_1, y[2], t[0:2], args=(N[2], beta, gamma, 20000))\n",
        "    y0 = [ret_A[-1],ret_B[-1],ret_C[-1]]\n",
        "'''\n",
        "\n",
        "fig = go.Figure()\n",
        "fig.add_trace(go.Scatter(x = t,\n",
        "                         y = SIR_A.T[0],\n",
        "                         mode = 'lines',\n",
        "                         name = 'Susceptível'))\n",
        "fig.add_trace(go.Scatter(x = t,\n",
        "                         y = SIR_A.T[1],\n",
        "                         mode = 'lines',\n",
        "                         name = 'Infeccioso'))\n",
        "fig.add_trace(go.Scatter(x = t,\n",
        "                         y = SIR_A.T[2],\n",
        "                         mode = 'lines',\n",
        "                         name = 'Recuperado'))\n",
        "fig.update_layout(title='Modelo SIR Determinístico - Nó A',\n",
        "                  xaxis_title='Tempo (dias)',\n",
        "                  yaxis_title='Número de Indivíduos',\n",
        "                  width=600,\n",
        "                  height=300,\n",
        "                  margin=margem\n",
        "                  )\n",
        "fig.show()\n",
        "#\n",
        "fig = go.Figure()\n",
        "fig.add_trace(go.Scatter(x = t,\n",
        "                         y = SIR_B.T[0],\n",
        "                         mode = 'lines',\n",
        "                         name = 'Susceptível'))\n",
        "fig.add_trace(go.Scatter(x = t,\n",
        "                         y = SIR_B.T[1],\n",
        "                         mode = 'lines',\n",
        "                         name = 'Infeccioso'))\n",
        "fig.add_trace(go.Scatter(x = t,\n",
        "                         y = SIR_B.T[2],\n",
        "                         mode = 'lines',\n",
        "                         name = 'Recuperado'))\n",
        "fig.update_layout(title='Modelo SIR Determinístico - Nó B',\n",
        "                  xaxis_title='Tempo (dias)',\n",
        "                  yaxis_title='Número de Indivíduos',\n",
        "                  width=600,\n",
        "                  height=300,\n",
        "                  margin=margem\n",
        "                  )\n",
        "fig.show()\n",
        "#\n",
        "fig = go.Figure()\n",
        "fig.add_trace(go.Scatter(x = t,\n",
        "                         y = SIR_C.T[0],\n",
        "                         mode = 'lines',\n",
        "                         name = 'Susceptível'))\n",
        "fig.add_trace(go.Scatter(x = t,\n",
        "                         y = SIR_C.T[1],\n",
        "                         mode = 'lines',\n",
        "                         name = 'Infeccioso'))\n",
        "fig.add_trace(go.Scatter(x = t,\n",
        "                         y = SIR_C.T[2],\n",
        "                         mode = 'lines',\n",
        "                         name = 'Recuperado'))\n",
        "fig.update_layout(title='Modelo SIR Determinístico - Nó C',\n",
        "                  xaxis_title='Tempo (dias)',\n",
        "                  yaxis_title='Número de Indivíduos',\n",
        "                  width=600,\n",
        "                  height=300,\n",
        "                  margin=margem\n",
        "                  )\n",
        "fig.show()\n",
        "'''"
      ],
      "metadata": {
        "id": "hVVadoXy2xPn"
      },
      "execution_count": null,
      "outputs": []
    }
  ]
}