{
  "nbformat": 4,
  "nbformat_minor": 0,
  "metadata": {
    "colab": {
      "provenance": [],
      "authorship_tag": "ABX9TyPDipIz7/K+1OUNo7MTNi5C",
      "include_colab_link": true
    },
    "kernelspec": {
      "name": "ir",
      "display_name": "R"
    },
    "language_info": {
      "name": "R"
    }
  },
  "cells": [
    {
      "cell_type": "markdown",
      "metadata": {
        "id": "view-in-github",
        "colab_type": "text"
      },
      "source": [
        "<a href=\"https://colab.research.google.com/github/gabrielxcosta/Simulation-of-epidemiological-models-in-temporal-mobility-networks/blob/main/Semana%207/Comparing_metapopulation_dynamics_of_infectious_diseases_under_different_models_of_human_movement.ipynb\" target=\"_parent\"><img src=\"https://colab.research.google.com/assets/colab-badge.svg\" alt=\"Open In Colab\"/></a>"
      ]
    },
    {
      "cell_type": "markdown",
      "source": [
        "<center>\n",
        "\n",
        "# Travel Destination Choice Model\n",
        "\n",
        "</center>"
      ],
      "metadata": {
        "id": "W1CCD4pEBS09"
      }
    },
    {
      "cell_type": "code",
      "execution_count": null,
      "metadata": {
        "colab": {
          "base_uri": "https://localhost:8080/"
        },
        "id": "YY2sWAlX7ax8",
        "outputId": "b59090c3-5760-4bbb-abc1-e2d427ad3af6"
      },
      "outputs": [
        {
          "output_type": "stream",
          "name": "stderr",
          "text": [
            "Installing package into ‘/usr/local/lib/R/site-library’\n",
            "(as ‘lib’ is unspecified)\n",
            "\n",
            "also installing the dependency ‘sp’\n",
            "\n",
            "\n",
            "Loading required package: sp\n",
            "\n",
            "Please note that rgdal will be retired during 2023,\n",
            "plan transition to sf/stars/terra functions using GDAL and PROJ\n",
            "at your earliest convenience.\n",
            "See https://r-spatial.org/r/2022/04/12/evolution.html and https://github.com/r-spatial/evolution\n",
            "rgdal: version: 1.6-6, (SVN revision 1201)\n",
            "Geospatial Data Abstraction Library extensions to R successfully loaded\n",
            "Loaded GDAL runtime: GDAL 3.3.2, released 2021/09/01\n",
            "Path to GDAL shared files: /usr/share/gdal\n",
            "GDAL binary built with GEOS: TRUE \n",
            "Loaded PROJ runtime: Rel. 7.2.1, January 1st, 2021, [PJ_VERSION: 721]\n",
            "Path to PROJ shared files: /root/.local/share/proj:/usr/share/proj\n",
            "PROJ CDN enabled: FALSE\n",
            "Linking to sp version:1.6-0\n",
            "To mute warnings of possible GDAL/OSR exportToProj4() degradation,\n",
            "use options(\"rgdal_show_exportToProj4_warnings\"=\"none\") before loading sp or rgdal.\n",
            "\n"
          ]
        }
      ],
      "source": [
        "library(data.table)\n",
        "library(ggplot2)\n",
        "library(MASS)\n",
        "library(tidyverse, quietly = TRUE)\n",
        "library(nnet)\n",
        "\n",
        "install.packages('rgdal')\n",
        "library(rgdal)"
      ]
    },
    {
      "cell_type": "markdown",
      "source": [
        "# Introduction\n",
        "This document shows how the multinomial destination choice model was developed for the analysis presented in the article \"Comparing Metapopulation Dynamics of Infectious Diseases under Different Models of Human Movement\" by Citron et al. \n",
        "\n",
        "We will use data from the 2015-2017 BIMEP malaria indicator surveys which record how many people reported going from their homes to each of seven destination regions. We will use these data, along with population, distance, and location covariates to fit a multinomial probability model of destination choice. The results appear as the columns `p_mainland`, `p_baney`, etc in Comparing_Metapopulation_Dynamics_companion_code.Rmd.\n",
        "\n",
        "# Load data\n",
        "The columns in this data set are as follows:\n",
        "\n",
        "  * area_index: Unique label for each map area\n",
        "  * lon/lat: Longitude and latitude for each map area\n",
        "  * region: Region where each map area is located. The map areas Malabo region have been categorized as either in urban Malabo (\"Malabo\") or in the periurban areas around the city (\"Periurban\"). The other map area regions are Baney, Luba, Moka, Riaba, and Ureka.\n",
        "  * population: Number of residents for each map area\n",
        "  * sample_size: Number of people sampled from each map area in each MIS\n",
        "  * t_eg, ti_ban, etc: Reported numbers trips to mainland Equatorial Guinea (eg); Baney (ban); Luba (lub), Malabo (mal), Moka (mok), Riaba (ria), and Ureka (ure)\n",
        "  * dist_eg, dist_ban, etc: Distance to each destination region. This is computed as the distance to the centroids of each of the destination regions, calculated from the lon/lat coordinates.\n",
        "  * year: Year of the study"
      ],
      "metadata": {
        "id": "IYiAk1Me8ffX"
      }
    },
    {
      "cell_type": "code",
      "source": [
        "mul_model_data <- fread(\"Dataset_S1_raw_survey_data.csv\")"
      ],
      "metadata": {
        "id": "ue9Hk8A68tSZ"
      },
      "execution_count": null,
      "outputs": []
    },
    {
      "cell_type": "markdown",
      "source": [
        "We will fit a multinomial model of destination choice to the data. We first have to transform the data to apply the `nnet::multinom`. We have to create a second data set to also perform the prediction. Much of the operations below have to do with that. The results appear as the columns `p_mainland`, `p_baney`, etc in Comparing Metapopulation Dynamics Companion Code."
      ],
      "metadata": {
        "id": "EH7MN7PT8_hp"
      }
    },
    {
      "cell_type": "code",
      "source": [
        "# Create a dummy table, which says how many trips were reported to each destination region\n",
        "dummy_1 <- melt(mul_model_data,\n",
        "                 id.vars = c(\"area_index\", \"population\", \"year\", \"region\", \n",
        "                             \"dist_eg\", \"dist_ban\", \"dist_lub\", \n",
        "                             \"dist_mal\", \"dist_mok\", \"dist_ria\", \"dist_ure\"),\n",
        "                 measure.vars = list(c(\"t_eg\", \"ti_ban\", \"ti_lub\", \"ti_mal\", \n",
        "                                       \"ti_mok\", \"ti_ria\", \"ti_ure\")),\n",
        "                 value.name = c(\"counts\"),\n",
        "                 variable.name = \"dest_reg\")\n",
        "\n",
        "# Create another dummy table, with the populations of the destination regions\n",
        "dummy_2 <- data.table(\n",
        "        dest_reg = c(\"t_eg\", \"ti_ban\", \"ti_lub\", \"ti_mal\",  \"ti_ria\", \"ti_mok\", \"ti_ure\"),\n",
        "        dest_pop = c(1071785, # this is the off-island population of equatorial guinea\n",
        "          round(sum(mul_model_data[region == \"Baney\"]$pop)/4), \n",
        "          round(sum(mul_model_data[region == \"Luba\"]$pop)/4),\n",
        "          round(sum(mul_model_data[region %in% c(\"Malabo\", \"Peri\")]$pop)/4),\n",
        "          round(sum(mul_model_data[region == \"Moka\"]$pop)/4),\n",
        "          round(sum(mul_model_data[region == \"Riaba\"]$pop)/4),\n",
        "          round(sum(mul_model_data[region == \"Ureka\"]$pop)/4)\n",
        "          )  \n",
        "        )\n",
        "dummy_1 <- merge(dummy_1, dummy_2, by = \"dest_reg\")\n",
        "\n",
        "# Create dummy variable for location\n",
        "dummy_3 <- dcast(mul_model_data, area_index ~ region, \n",
        "                 fun.aggregate = function(region){return(as.numeric(length(region)>0))}, \n",
        "                 value.var = \"region\")\n",
        "\n",
        "# Merge the two tables to create a new table which we will use \n",
        "# to retrieve model predictions later\n",
        "multinom_data_predict <- merge(dummy_1, dummy_3, by = \"area_index\")\n",
        "\n",
        "# To perform the model fit, we explode out the rows of multinom_data_predict\n",
        "# such that each row corresponds to one reported trip to one destination\n",
        "multinom_data_fit <- multinom_data_predict[counts > 0]\n",
        "multinom_data_fit <- multinom_data_fit[rep(seq(1, nrow(multinom_data_fit)),\n",
        "                                           multinom_data_fit$counts)]                                          "
      ],
      "metadata": {
        "id": "Xmy5zlFO85UX"
      },
      "execution_count": null,
      "outputs": []
    },
    {
      "cell_type": "markdown",
      "source": [
        "Perform the model fit using `nnet::multinom`. We fit the probability of choosing a destination (dest_reg) vs. the region of origin, population at the area of origin, and distance to each of the destination regions."
      ],
      "metadata": {
        "id": "Nje4_P-t9LTq"
      }
    },
    {
      "cell_type": "code",
      "source": [
        "mul_model <- nnet::multinom(\n",
        "  dest_reg ~ population + \n",
        "  # distance covariates\n",
        "  dist_eg + dist_ban + dist_lub + dist_mal + \n",
        "  dist_mok + dist_ria + dist_ure + \n",
        "  # indicator variables for region of origin\n",
        "  Baney + Luba + Malabo + Moka + Periurban + Riaba + Ureka, \n",
        "  data = multinom_data_fit, \n",
        "  maxit = 1000)\n",
        "\n",
        "# Extract Predictions\n",
        "mul_predict <- predict(mul_model,\n",
        "                       # newdata = holder.1[ix == \"to\"],\n",
        "                       multinom_data_predict[dest_reg == \"t_eg\"],\n",
        "                       type = \"probs\") # note that everything row does sum to 1\n",
        "mul_predict <- as.data.table(mul_predict)\n",
        "mul_predict$area_index <- multinom_data_predict[dest_reg == \"t_eg\"]$area_index\n",
        "mul_predict$year <- multinom_data_predict[dest_reg == \"t_eg\"]$year"
      ],
      "metadata": {
        "colab": {
          "base_uri": "https://localhost:8080/"
        },
        "id": "O5S_6yXp9JWI",
        "outputId": "ce989213-167f-4ca6-92d3-4b166f5c7f9c"
      },
      "execution_count": null,
      "outputs": [
        {
          "output_type": "stream",
          "name": "stdout",
          "text": [
            "# weights:  119 (96 variable)\n",
            "initial  value 26513.025781 \n",
            "iter  10 value 16252.649552\n",
            "iter  20 value 16041.050652\n",
            "iter  30 value 15937.032097\n",
            "iter  40 value 15931.075405\n",
            "iter  50 value 15874.221736\n",
            "iter  60 value 14006.074663\n",
            "iter  70 value 13811.233647\n",
            "iter  80 value 13794.207382\n",
            "iter  90 value 13792.413694\n",
            "iter 100 value 13791.915933\n",
            "iter 110 value 13791.698868\n",
            "iter 120 value 13791.124262\n",
            "iter 130 value 13791.046509\n",
            "iter 130 value 13791.046424\n",
            "iter 130 value 13791.046423\n",
            "final  value 13791.046423 \n",
            "converged\n"
          ]
        }
      ]
    },
    {
      "cell_type": "markdown",
      "source": [
        "The table of destination probability distributions that is used in the accompanying documents and manuscript is the one from 2015 (and 2016 and 2017, they should be the same)."
      ],
      "metadata": {
        "id": "Iwi4AVZH95TJ"
      }
    },
    {
      "cell_type": "code",
      "source": [
        "head(mul_predict[year == 2015,\n",
        "                 .(area_index, \n",
        "                   p_mainland = t_eg, p_baney = ti_ban, p_luba = ti_lub,\n",
        "                   p_malabo = ti_mal, p_moka = ti_mok, p_riaba = ti_ria, \n",
        "                   p_ureka = ti_ure, year)])"
      ],
      "metadata": {
        "colab": {
          "base_uri": "https://localhost:8080/",
          "height": 286
        },
        "id": "6-fegYID96ry",
        "outputId": "e75a5159-cf14-42c5-ade1-0742dac74222"
      },
      "execution_count": null,
      "outputs": [
        {
          "output_type": "display_data",
          "data": {
            "text/html": [
              "<table class=\"dataframe\">\n",
              "<caption>A data.table: 6 × 9</caption>\n",
              "<thead>\n",
              "\t<tr><th scope=col>area_index</th><th scope=col>p_mainland</th><th scope=col>p_baney</th><th scope=col>p_luba</th><th scope=col>p_malabo</th><th scope=col>p_moka</th><th scope=col>p_riaba</th><th scope=col>p_ureka</th><th scope=col>year</th></tr>\n",
              "\t<tr><th scope=col>&lt;int&gt;</th><th scope=col>&lt;dbl&gt;</th><th scope=col>&lt;dbl&gt;</th><th scope=col>&lt;dbl&gt;</th><th scope=col>&lt;dbl&gt;</th><th scope=col>&lt;dbl&gt;</th><th scope=col>&lt;dbl&gt;</th><th scope=col>&lt;dbl&gt;</th><th scope=col>&lt;int&gt;</th></tr>\n",
              "</thead>\n",
              "<tbody>\n",
              "\t<tr><td>1</td><td>0.7029871</td><td>0.03472116</td><td>0.04512460</td><td>0.1966916</td><td>0.007091542</td><td>0.01288686</td><td>0.0004971597</td><td>2015</td></tr>\n",
              "\t<tr><td>2</td><td>0.7072490</td><td>0.03201003</td><td>0.04363486</td><td>0.1963133</td><td>0.006895150</td><td>0.01325220</td><td>0.0006454555</td><td>2015</td></tr>\n",
              "\t<tr><td>3</td><td>0.6405642</td><td>0.05477593</td><td>0.05688059</td><td>0.2259951</td><td>0.008027762</td><td>0.01351653</td><td>0.0002399052</td><td>2015</td></tr>\n",
              "\t<tr><td>4</td><td>0.6803539</td><td>0.04159585</td><td>0.04983134</td><td>0.2067952</td><td>0.008059582</td><td>0.01302329</td><td>0.0003408320</td><td>2015</td></tr>\n",
              "\t<tr><td>5</td><td>0.7057084</td><td>0.03309125</td><td>0.04486141</td><td>0.1949303</td><td>0.007826077</td><td>0.01308460</td><td>0.0004979219</td><td>2015</td></tr>\n",
              "\t<tr><td>6</td><td>0.7105387</td><td>0.03003484</td><td>0.04285328</td><td>0.1950149</td><td>0.007610806</td><td>0.01328090</td><td>0.0006665353</td><td>2015</td></tr>\n",
              "</tbody>\n",
              "</table>\n"
            ],
            "text/markdown": "\nA data.table: 6 × 9\n\n| area_index &lt;int&gt; | p_mainland &lt;dbl&gt; | p_baney &lt;dbl&gt; | p_luba &lt;dbl&gt; | p_malabo &lt;dbl&gt; | p_moka &lt;dbl&gt; | p_riaba &lt;dbl&gt; | p_ureka &lt;dbl&gt; | year &lt;int&gt; |\n|---|---|---|---|---|---|---|---|---|\n| 1 | 0.7029871 | 0.03472116 | 0.04512460 | 0.1966916 | 0.007091542 | 0.01288686 | 0.0004971597 | 2015 |\n| 2 | 0.7072490 | 0.03201003 | 0.04363486 | 0.1963133 | 0.006895150 | 0.01325220 | 0.0006454555 | 2015 |\n| 3 | 0.6405642 | 0.05477593 | 0.05688059 | 0.2259951 | 0.008027762 | 0.01351653 | 0.0002399052 | 2015 |\n| 4 | 0.6803539 | 0.04159585 | 0.04983134 | 0.2067952 | 0.008059582 | 0.01302329 | 0.0003408320 | 2015 |\n| 5 | 0.7057084 | 0.03309125 | 0.04486141 | 0.1949303 | 0.007826077 | 0.01308460 | 0.0004979219 | 2015 |\n| 6 | 0.7105387 | 0.03003484 | 0.04285328 | 0.1950149 | 0.007610806 | 0.01328090 | 0.0006665353 | 2015 |\n\n",
            "text/latex": "A data.table: 6 × 9\n\\begin{tabular}{lllllllll}\n area\\_index & p\\_mainland & p\\_baney & p\\_luba & p\\_malabo & p\\_moka & p\\_riaba & p\\_ureka & year\\\\\n <int> & <dbl> & <dbl> & <dbl> & <dbl> & <dbl> & <dbl> & <dbl> & <int>\\\\\n\\hline\n\t 1 & 0.7029871 & 0.03472116 & 0.04512460 & 0.1966916 & 0.007091542 & 0.01288686 & 0.0004971597 & 2015\\\\\n\t 2 & 0.7072490 & 0.03201003 & 0.04363486 & 0.1963133 & 0.006895150 & 0.01325220 & 0.0006454555 & 2015\\\\\n\t 3 & 0.6405642 & 0.05477593 & 0.05688059 & 0.2259951 & 0.008027762 & 0.01351653 & 0.0002399052 & 2015\\\\\n\t 4 & 0.6803539 & 0.04159585 & 0.04983134 & 0.2067952 & 0.008059582 & 0.01302329 & 0.0003408320 & 2015\\\\\n\t 5 & 0.7057084 & 0.03309125 & 0.04486141 & 0.1949303 & 0.007826077 & 0.01308460 & 0.0004979219 & 2015\\\\\n\t 6 & 0.7105387 & 0.03003484 & 0.04285328 & 0.1950149 & 0.007610806 & 0.01328090 & 0.0006665353 & 2015\\\\\n\\end{tabular}\n",
            "text/plain": [
              "  area_index p_mainland p_baney    p_luba     p_malabo  p_moka      p_riaba   \n",
              "1 1          0.7029871  0.03472116 0.04512460 0.1966916 0.007091542 0.01288686\n",
              "2 2          0.7072490  0.03201003 0.04363486 0.1963133 0.006895150 0.01325220\n",
              "3 3          0.6405642  0.05477593 0.05688059 0.2259951 0.008027762 0.01351653\n",
              "4 4          0.6803539  0.04159585 0.04983134 0.2067952 0.008059582 0.01302329\n",
              "5 5          0.7057084  0.03309125 0.04486141 0.1949303 0.007826077 0.01308460\n",
              "6 6          0.7105387  0.03003484 0.04285328 0.1950149 0.007610806 0.01328090\n",
              "  p_ureka      year\n",
              "1 0.0004971597 2015\n",
              "2 0.0006454555 2015\n",
              "3 0.0002399052 2015\n",
              "4 0.0003408320 2015\n",
              "5 0.0004979219 2015\n",
              "6 0.0006665353 2015"
            ]
          },
          "metadata": {}
        }
      ]
    },
    {
      "cell_type": "markdown",
      "source": [
        "<center>\n",
        "\n",
        "# Comparing Metapopulation Dynamics Companion Code\n",
        "\n",
        "</center>"
      ],
      "metadata": {
        "id": "uv-GfXsYB9K9"
      }
    },
    {
      "cell_type": "markdown",
      "source": [
        "Welcome to the companion code supporting data and modeling for the article \"Comparing Metapopulation Dynamics of Infectious Diseases under Different Models of Human Movement\" by Citron et al. \n",
        "\n",
        "In this document, you will find the code for reproducing the analysis presented in the Malaria Modeling Example in the Results section of the main text. This includes the data and analysis presented in Figures 3 and 4.\n",
        "\n",
        "The travel destination choice model, which is described in the supplement is contained in a separate document (Travel_Destination_Choice_Model.Rmd).\n",
        "\n",
        "# Bioko Island Mapping and Travel Data\n",
        "Here's the data set which we use to create the maps of PfPR and travel prevalence (Figure 4 A and B).\n",
        "\n",
        "The columns are interpreted as follows:\n",
        "\n",
        "  * area_index: unique label for each map area\n",
        "  * lon/lat: longitude and latitude for each map area\n",
        "  * destination_region: destination region where the map area is located\n",
        "  * population: number of residents for each map area\n",
        "  * PR: mean malaria prevalence (parasite rate)\n",
        "  * P_travel: travel prevalence, probability of having left home in last 8 weeks. This is represented as $\\pi_i$ in Supplementary Information Equation 1.\n",
        "  * p_mainland, p_baney, etc: Multinomial probability distribution of choosing to go to each of seven destination locations included in the malaria indicator survey (Mainland Equatorial Guinea, Baney, Luba, Malabo, Moka, Riaba, Ureka). These probabilities are represented as $P\\left(i \\rightarrow d | i\\right)$ in Supplementary Information Equation 1."
      ],
      "metadata": {
        "id": "ZESqlgkLCMmf"
      }
    },
    {
      "cell_type": "code",
      "source": [
        "bioko.island.clean.data <- fread(\"Dataset_S2_modeled_PR_and_travel.csv\")"
      ],
      "metadata": {
        "id": "hParMKUOCG4u"
      },
      "execution_count": null,
      "outputs": []
    },
    {
      "cell_type": "markdown",
      "source": [
        "# Travel Duration\n",
        "We use data from the 2018 Bioko Island Malaria Elimination Program malaria indicator survey, where survey participants reported the number of nights they spent away from home. We use an exponential model of travel duration to infer the average number of nights spent away for trips reported on Bioko Island and off-island to mainland Equatorial Guinea."
      ],
      "metadata": {
        "id": "qBM4mGFXDehc"
      }
    },
    {
      "cell_type": "code",
      "source": [
        "travel.duration <- fread(\"Dataset_S3_travel_duration_data.csv\")\n",
        "\n",
        "# Fit data using an exponential distribution model of travel time\n",
        "# Use maximum likelihood to find mean duration of travel time on island\n",
        "f <- optimize(f = function(l){\n",
        "  sum(dexp(x = travel.duration[destination == \"on_island\"]$duration, \n",
        "           rate = l, log = TRUE))\n",
        "}, interval = c(0,1), maximum = TRUE)\n",
        "mean.duration.on.island <- 1/f$maximum\n",
        "# mean.duration.on.island = 10.34 \n",
        "# An average of 10.34 nights spent away when traveling on Bioko Island\n",
        "\n",
        "# Use maximum likelihood to find mean duration of travel time on mainland, off-island\n",
        "f <- optimize(f = function(l){\n",
        "  sum(dexp(x = travel.duration[destination == \"off_island\"]$duration, \n",
        "           rate = l, log = TRUE))\n",
        "}, interval = c(0,1), maximum = TRUE)\n",
        "mean.duration.off.island <- 1/f$maximum\n",
        "# mean.duration.on.island = 21.22\n",
        "# An average of 21.22 nights spent away when traveling off-island to the mainland"
      ],
      "metadata": {
        "id": "iy33IDOsDjzV"
      },
      "execution_count": null,
      "outputs": []
    },
    {
      "cell_type": "markdown",
      "source": [
        "# Time at Risk Matrix Calculation\n",
        "\n",
        "Our next step is to disambiguate the travel destinations. We do this by weighting the probability of traveling to each map area within each destination region according to map area population. That is to say: we assume there is an equal probability of visiting each person within each destination region. These probabilities are represented as $P\\left(i \\rightarrow d | i\\right)P\\left(d \\rightarrow j | i, d\\right)$ in Supplementary Information Equation 1."
      ],
      "metadata": {
        "id": "VgPhnYMWDyqC"
      }
    },
    {
      "cell_type": "code",
      "source": [
        "# Matrix of probabilities by travel destination\n",
        "p_id <- bioko.island.clean.data[, \n",
        "         .(p_mainland, p_baney, p_luba, p_malabo, p_moka, p_riaba, p_ureka)]\n",
        "\n",
        "# Create matrix that maps each of the seven destination regions into the 195 map areas\n",
        "# (Note that we have 194 map areas on the island, and use the 195th one to \n",
        "# represent off-island travel)\n",
        "mat.weighted <- matrix(0, nrow = 7, ncol = 195)\n",
        "# off-island travel\n",
        "mat.weighted[1,195] <- 1\n",
        "# baney\n",
        "mat.weighted[2, bioko.island.clean.data[destination_region == \"Baney\"]$area_index] <- \n",
        "  bioko.island.clean.data[destination_region == \"Baney\"]$population/\n",
        "  sum(bioko.island.clean.data[destination_region == \"Baney\"]$population)\n",
        "# Luba\n",
        "mat.weighted[3, bioko.island.clean.data[destination_region == \"Luba\"]$area_index] <- \n",
        "  bioko.island.clean.data[destination_region == \"Luba\"]$population/\n",
        "  sum(bioko.island.clean.data[destination_region == \"Luba\"]$population)\n",
        "# Malabo\n",
        "mat.weighted[4, bioko.island.clean.data[destination_region == \"Malabo\"]$area_index] <- \n",
        "  bioko.island.clean.data[destination_region == \"Malabo\"]$population/\n",
        "  sum(bioko.island.clean.data[destination_region == \"Malabo\"]$population)\n",
        "# Moka\n",
        "mat.weighted[5, bioko.island.clean.data[destination_region == \"Moka\"]$area_index] <- \n",
        "  bioko.island.clean.data[destination_region == \"Moka\"]$population/\n",
        "  sum(bioko.island.clean.data[destination_region == \"Moka\"]$population)\n",
        "# Riaba\n",
        "mat.weighted[6, bioko.island.clean.data[destination_region == \"Riaba\"]$area_index] <- \n",
        "  bioko.island.clean.data[destination_region == \"Riaba\"]$population/\n",
        "  sum(bioko.island.clean.data[destination_region == \"Riaba\"]$population)\n",
        "# Ureka\n",
        "mat.weighted[7, bioko.island.clean.data[destination_region == \"Ureka\"]$area_index] <- \n",
        "  bioko.island.clean.data[destination_region == \"Ureka\"]$population/\n",
        "  sum(bioko.island.clean.data[destination_region == \"Ureka\"]$population)\n",
        "\n",
        "# Disambiguate travel destination \n",
        "p_ij <- as.matrix(p_id) %*% mat.weighted\n",
        "# Add a 195th row, to represent the mainland. \n",
        "# Note that we do not have any data for the travel behavior \n",
        "# for the people who live on the mainland. We are primarily \n",
        "# interested in the how travel among residents of Bioko Island \n",
        "# contribute to importations, so we omit their travel behavior for now.\n",
        "p_ij <- rbind(p_ij, c(rep(0, 194), 1))"
      ],
      "metadata": {
        "id": "U27y4vuUDyUQ"
      },
      "execution_count": null,
      "outputs": []
    },
    {
      "cell_type": "markdown",
      "source": [
        "Now we perform the time at risk matrix calculation. We use the travel prevalence ($\\pi_i$); the probability matrix calculated above (`p_ij`, or $P\\left(i \\rightarrow d | i\\right)P\\left(d \\rightarrow j | i, d\\right)$); and the inverse of the mean travel durations to obtain the rates of returning home ($\\tau_{ij}$). Together, we can calculate the *time at risk matrix* $\\phi_{i,j}$ as described in Equation 3.\n",
        "\n",
        "This is saved as \"Time_At_Risk_Matrix.csv\" in long format"
      ],
      "metadata": {
        "id": "D0IWSWkmEAIZ"
      }
    },
    {
      "cell_type": "code",
      "source": [
        "# Rate at which people leave home\n",
        "pi_i <- c(bioko.island.clean.data$P_travel/56, 0)\n",
        "\n",
        "# Rate at which people return home from destination j\n",
        "tau_ij = c(rep(1/mean.duration.on.island, 194), 1/mean.duration.off.island)\n",
        "\n",
        "Time.at.risk.matrix <- diag(1, nrow = 195, ncol = 195)\n",
        "for (i in 1:195){\n",
        "  # Off-diagonal element\n",
        "  Time.at.risk.matrix[i,] <-  pi_i[i]*p_ij[i,]/tau_ij/(1 + sum(pi_i[i]*p_ij[i,]/tau_ij))\n",
        "  # On-diagonal element: (Time spent at home) = 1 - (time spent everywhere else)\n",
        "  Time.at.risk.matrix[i,i] <- 1 + Time.at.risk.matrix[i,i] - sum(Time.at.risk.matrix[i,])\n",
        "}"
      ],
      "metadata": {
        "id": "QSYyFQocEBLs"
      },
      "execution_count": null,
      "outputs": []
    },
    {
      "cell_type": "markdown",
      "source": [
        "# $R_0$ Calculations\n",
        "\n",
        "Starting with the Time at Risk Matrix, we now calculate $R_0$ for each of the two models."
      ],
      "metadata": {
        "id": "2KEi7opPELmy"
      }
    },
    {
      "cell_type": "code",
      "source": [
        "## If necessary, load in time at risk matrix:\n",
        "# Time.at.risk.matrix <- fread(\"Dataset_S4_time_at_risk_matrix.csv\")\n",
        "# Time.at.risk.matrix <- dcast(Time.at.risk.matrix, \n",
        "#                              area_index_i ~ area_index_j, \n",
        "#                              value.var= \"T_ij\")[,2:196]\n",
        "\n",
        "## PfPR\n",
        "# We include PR = 0.43 as the prevalence on the mainland\n",
        "pfpr_input <- c(bioko.island.clean.data$PR, .43)\n",
        "\n",
        "## Population\n",
        "# Set population on mainland, index 195, to Malabo's population\n",
        "pop_input <- c(bioko.island.clean.data$population,\n",
        "               sum(bioko.island.clean.data[destination_region == \"Malabo\"]$population))\n",
        "\n",
        "\n",
        "## Ross-Macdonald Parameters\n",
        "a = 0.3*0.9\n",
        "b = 0.55\n",
        "c = 0.15\n",
        "r = 1./200 # rate at which people recover\n",
        "p = 0.9 # fraction of surviving mosquitoes\n",
        "g = 1 - p # fraction of dying mosquitoes\n",
        "peip = p^11 # fraction of mosquitoes who survive incubation period"
      ],
      "metadata": {
        "id": "tBipV7B0EMt8"
      },
      "execution_count": null,
      "outputs": []
    },
    {
      "cell_type": "markdown",
      "source": [
        "## Flux Model\n",
        "We use the flux volume matrix (Equation 4) and the assumption that the populations represent the equilibrium to compute the flux parameters. Then we use Equation 14 from the main text to compute $R_{0, \\text{Flux}}$."
      ],
      "metadata": {
        "id": "RGWrQ9J1EZpU"
      }
    },
    {
      "cell_type": "code",
      "source": [
        "# Rate at which people leave home\n",
        "pi_i <- c(bioko.island.clean.data$P_travel/56, 0)\n",
        "# Rates of returning home\n",
        "# These are identical for all i, so the index on this refers to the destination j\n",
        "tau_ij = c(rep(1/mean.duration.on.island, 194), 1/mean.duration.off.island)\n",
        "\n",
        "# Population at each location\n",
        "pop_input <- c(bioko.island.clean.data$population,\n",
        "               sum(bioko.island.clean.data[destination_region == \"Malabo\"]$population))\n",
        "\n",
        "# Rate of leaving to each destination location j from home location i\n",
        "phi_ij = matrix(0, nrow = 195, ncol = 195)\n",
        "for (i in 1:195){\n",
        "  phi_ij[i,] = p_ij[i,]*pi_i[i]\n",
        "}\n",
        "\n",
        "# Flux model parameters\n",
        "f_ij = matrix(0, nrow = 195, ncol = 195)\n",
        "for (i in 1:195){\n",
        "  for (j in 1:195){\n",
        "    f_ij[i,j] = phi_ij[i,j]*Time.at.risk.matrix[i,i] + \n",
        "      tau_ij[i]*Time.at.risk.matrix[j,i]*pop_input[j]/pop_input[i]\n",
        "  }\n",
        "  f_ij[i,i] = 0.0\n",
        "}\n",
        "\n",
        "# Now calculate the net flux of those infected moving between each location\n",
        "pop_infected = pop_input * pfpr_input\n",
        "net_flux_infected <- rep(0, 195)\n",
        "for (i in 1:195){\n",
        "  net_flux_infected[i] <- +sum(f_ij[i,])*pop_infected[i] - (t(f_ij) %*% pop_infected)[i]\n",
        "  # - (infected people who are leaving) + (infected people who are entering)\n",
        "}\n",
        "\n",
        "\n",
        "# Calculate kappa, for the flux model; which only requires local pfpr measurements\n",
        "kappa <- pfpr_input\n",
        "# Borrowing notation from Ruktanonchai et al. (2016, Ref #17)\n",
        "d.vec <- (b*c*kappa/(1 + a*c*kappa/g))\n",
        "g.x.flux <- t((r*pfpr_input + net_flux_infected/pop_input)/(1 - (pfpr_input)))\n",
        "# Calculate Vectorial Capacity by inverting the Time at Risk matrix\n",
        "VC.flux <- g.x.flux/d.vec\n",
        "# Calculate Time at Risk R0 from vectorial capacity\n",
        "R0.flux <- VC.flux[1:195]*b*c/r"
      ],
      "metadata": {
        "id": "9FrpHUW6EanU"
      },
      "execution_count": null,
      "outputs": []
    },
    {
      "cell_type": "markdown",
      "source": [
        "## Simple Trip Model\n",
        "Refer to Equations 15 and 16 from the main text for how to compute $R_{0, \\text{ST}}$."
      ],
      "metadata": {
        "id": "xYhF6DgqpVxD"
      }
    },
    {
      "cell_type": "code",
      "source": [
        "# Calculate Kappa, the force of infection from humans to mosquitoes, \n",
        "# using the Time at Risk matrix\n",
        "kappa <- as.vector(pop_input*pfpr_input) %*% Time.at.risk.matrix / \n",
        "  (as.vector(pop_input) %*% Time.at.risk.matrix)\n",
        "# Borrowing notation from Ruktanonchai et al. (2016, Ref #17)\n",
        "d.vec <- (b*c*kappa/(1 + a*c*kappa/g))\n",
        "d.x.mat <- matrix(0, nrow = 195, ncol = 195);\n",
        "for (i in 1:195){\n",
        "  d.x.mat[i,i] = d.vec[i]\n",
        "}\n",
        "g.x <- r*pfpr_input/(1 - pfpr_input)\n",
        "# Calculate Vectorial Capacity by inverting the Time at Risk matrix\n",
        "VC.tar <- MASS::ginv(Time.at.risk.matrix %*% d.x.mat) %*% as.vector(g.x)\n",
        "# Calculate Time at Risk R0 from vectorial capacity\n",
        "R0.tar <- VC.tar[1:195]*b*c/r"
      ],
      "metadata": {
        "id": "jTI3ZUX-pbtC"
      },
      "execution_count": null,
      "outputs": []
    },
    {
      "cell_type": "markdown",
      "source": [
        "Compare, using histograms. (Cf. Figure 5C in the main text.)"
      ],
      "metadata": {
        "id": "D-NyMGh5pjdy"
      }
    },
    {
      "cell_type": "code",
      "source": [
        "hist.flux <- data.table(R0 = R0.flux[1:194], model = \"Flux\")\n",
        "hist.st <- data.table(R0 = R0.tar[1:194], model = \"ST\")\n",
        "\n",
        "r0.hist.data <- rbind(hist.st, hist.flux)\n",
        "\n",
        "ggplot(data = r0.hist.data, aes(R0, fill = model)) +\n",
        "  geom_histogram(alpha = 0.5, bins = 100, position = \"identity\") + \n",
        "  scale_fill_manual(name=\"model\",values=c(\"red\",\"blue\"),labels=c(\"Flux\",\"Simple Trip\"))"
      ],
      "metadata": {
        "colab": {
          "base_uri": "https://localhost:8080/",
          "height": 437
        },
        "id": "Yh6WkCuzPndS",
        "outputId": "c802c469-f7f4-4bec-a3c3-9afe078b3af9"
      },
      "execution_count": null,
      "outputs": [
        {
          "output_type": "display_data",
          "data": {
            "text/plain": [
              "plot without title"
            ],
            "image/png": "[encoded data removed]"
          },
          "metadata": {
            "image/png": {
              "width": 420,
              "height": 420
            }
          }
        }
      ]
    }
  ]
}